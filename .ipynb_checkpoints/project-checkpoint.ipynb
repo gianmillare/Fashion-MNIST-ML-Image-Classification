{
 "cells": [
  {
   "cell_type": "markdown",
   "id": "072bb2b5",
   "metadata": {},
   "source": [
    "# Fashion MNIST Image Classification"
   ]
  },
  {
   "cell_type": "markdown",
   "id": "ec8b7878",
   "metadata": {},
   "source": [
    "<hr>\n",
    "\n",
    "<strong>Objective</strong>: build a machine learning model using tensorflow that predicts whether an image is a certain clothing class (dress, shirt, sneaker, etc.)"
   ]
  },
  {
   "cell_type": "markdown",
   "id": "1121a838",
   "metadata": {},
   "source": [
    "<hr>\n",
    "\n",
    "### Dependencies"
   ]
  },
  {
   "cell_type": "code",
   "execution_count": 1,
   "id": "9c659753",
   "metadata": {},
   "outputs": [],
   "source": [
    "import tensorflow as tf\n",
    "import keras\n",
    "import numpy as np\n",
    "\n",
    "\n",
    "%matplotlib inline\n",
    "import matplotlib.pyplot as plt"
   ]
  },
  {
   "cell_type": "code",
   "execution_count": null,
   "id": "216b5cbd",
   "metadata": {},
   "outputs": [],
   "source": []
  }
 ],
 "metadata": {
  "kernelspec": {
   "display_name": "Python 3",
   "language": "python",
   "name": "python3"
  },
  "language_info": {
   "codemirror_mode": {
    "name": "ipython",
    "version": 3
   },
   "file_extension": ".py",
   "mimetype": "text/x-python",
   "name": "python",
   "nbconvert_exporter": "python",
   "pygments_lexer": "ipython3",
   "version": "3.8.9"
  }
 },
 "nbformat": 4,
 "nbformat_minor": 5
}
