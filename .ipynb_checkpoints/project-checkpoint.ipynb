{
 "cells": [
  {
   "cell_type": "markdown",
   "id": "4981ba3a",
   "metadata": {},
   "source": [
    "# Fashion MNIST Image Classification"
   ]
  },
  {
   "cell_type": "markdown",
   "id": "53a30714",
   "metadata": {},
   "source": [
    "<hr>\n",
    "\n",
    "<strong>Objective</strong>: build a machine learning model using tensorflow that predicts whether an image is a certain clothing class (dress, shirt, sneaker, etc.)"
   ]
  },
  {
   "cell_type": "markdown",
   "id": "0eee8767",
   "metadata": {},
   "source": [
    "<hr>\n",
    "\n",
    "### Dependencies"
   ]
  },
  {
   "cell_type": "code",
   "execution_count": 2,
   "id": "c6d345de",
   "metadata": {},
   "outputs": [],
   "source": [
    "import tensorflow as tf\n",
    "import keras\n",
    "import numpy as np\n",
    "from keras.datasets import fashion_mnist\n",
    "\n",
    "\n",
    "%matplotlib inline\n",
    "import matplotlib.pyplot as plt"
   ]
  },
  {
   "cell_type": "markdown",
   "id": "a2dc111a",
   "metadata": {},
   "source": [
    "### Load the Data"
   ]
  },
  {
   "cell_type": "code",
   "execution_count": 3,
   "id": "8138b5b4",
   "metadata": {},
   "outputs": [],
   "source": [
    "(x_train, y_train), (x_test, y_test) = fashion_mnist.load_data()"
   ]
  },
  {
   "cell_type": "code",
   "execution_count": 4,
   "id": "faaee57c",
   "metadata": {},
   "outputs": [
    {
     "name": "stdout",
     "output_type": "stream",
     "text": [
      "Shape of x: (60000, 28, 28)\n",
      "Shape of y: (60000,)\n",
      "------------------------------\n",
      "Shape of x: (10000, 28, 28)\n",
      "Shape of y: (10000,)\n"
     ]
    }
   ],
   "source": [
    "print(f\"Shape of x: {x_train.shape}\")\n",
    "print(f\"Shape of y: {y_train.shape}\")\n",
    "print(\"---\" * 10)\n",
    "print(f\"Shape of x: {x_test.shape}\")\n",
    "print(f\"Shape of y: {y_test.shape}\")"
   ]
  },
  {
   "cell_type": "markdown",
   "id": "6929fbec",
   "metadata": {},
   "source": [
    "<strong>Observation</strong>: there are 60,000 training samples and 10,000 testing samples. Each sample is 28x28, each 1x1 representing 1 pixel."
   ]
  },
  {
   "cell_type": "code",
   "execution_count": 5,
   "id": "d8240276",
   "metadata": {},
   "outputs": [
    {
     "data": {
      "image/png": "[encoded data removed]",
      "text/plain": [
       "<Figure size 432x288 with 1 Axes>"
      ]
     },
     "metadata": {
      "needs_background": "light"
     },
     "output_type": "display_data"
    }
   ],
   "source": [
    "plt.imshow(x_train[0], cmap='binary')\n",
    "plt.show()"
   ]
  },
  {
   "cell_type": "code",
   "execution_count": 7,
   "id": "5d795efc",
   "metadata": {},
   "outputs": [
    {
     "name": "stdout",
     "output_type": "stream",
     "text": [
      "9\n"
     ]
    }
   ],
   "source": [
    "print(y_train[0])"
   ]
  },
  {
   "cell_type": "code",
   "execution_count": 8,
   "id": "abc2e6e5",
   "metadata": {},
   "outputs": [
    {
     "name": "stdout",
     "output_type": "stream",
     "text": [
      "{0, 1, 2, 3, 4, 5, 6, 7, 8, 9}\n"
     ]
    }
   ],
   "source": [
    "print(set(y_train))"
   ]
  },
  {
   "cell_type": "markdown",
   "id": "c9342021",
   "metadata": {},
   "source": [
    "- each output is currently labeled 0-9\n",
    "- each number from 0-9 represents a piece of clothing\n",
    "\n",
    "<strong>Pairings</strong>:\n",
    "- 0 Shirt\n",
    "- 1 Trouser\n",
    "- 2 Pullover\n",
    "- 3 Dress\n",
    "- 4 Coat\n",
    "- 5 Scandal\n",
    "- 6 Shirt\n",
    "- 7 Sneaker\n",
    "- 8 Bag\n",
    "- 9 Boot"
   ]
  },
  {
   "cell_type": "code",
   "execution_count": null,
   "id": "c35fbfea",
   "metadata": {},
   "outputs": [],
   "source": []
  }
 ],
 "metadata": {
  "kernelspec": {
   "display_name": "Python 3",
   "language": "python",
   "name": "python3"
  },
  "language_info": {
   "codemirror_mode": {
    "name": "ipython",
    "version": 3
   },
   "file_extension": ".py",
   "mimetype": "text/x-python",
   "name": "python",
   "nbconvert_exporter": "python",
   "pygments_lexer": "ipython3",
   "version": "3.8.9"
  }
 },
 "nbformat": 4,
 "nbformat_minor": 5
}
